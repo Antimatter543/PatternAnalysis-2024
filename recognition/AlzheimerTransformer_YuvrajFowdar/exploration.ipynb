{
 "cells": [
  {
   "cell_type": "markdown",
   "metadata": {},
   "source": [
    "## Model/training pipelines:\n",
    "### Visual Transformer Training Pipeline for Alzheimer's Classification\n",
    "\n",
    "## 1. Load Dataset\n",
    "- Load training and test datasets using `ImageFolder`.\n",
    "- Use `DataLoader` to handle batching, shuffling, and parallel data loading.\n",
    "\n",
    "## 2. Model Initialization\n",
    "- Initialize a pretrained Vision Transformer (ViT) model.\n",
    "- Modify the model for binary classification (Alzheimer's Disease vs. No Alzheimer's).\n",
    "\n",
    "## 3. Define Loss and Optimizer\n",
    "- Use Cross-Entropy Loss for classification tasks.\n",
    "- Choose an optimizer (e.g., Adam the GOAT) to update model weights during training.\n",
    "\n",
    "## 4. Training Loop\n",
    "- For each epoch:\n",
    "    - Feed batches of images through the model.\n",
    "    - Compute the loss and perform backpropagation to adjust the weights.\n",
    "    - Track training loss across batches.\n",
    "\n",
    "## 5. Evaluation Loop\n",
    "- After training, evaluate the model using the test dataset.\n",
    "- Calculate accuracy and other relevant metrics to measure model performance.\n",
    "\n",
    "## 6. Fine-tuning and Optimization\n",
    "- Optionally implement techniques like learning rate scheduling, early stopping, and model checkpointing to improve training efficiency and model performance.\n"
   ]
  },
  {
   "cell_type": "code",
   "execution_count": 1,
   "metadata": {},
   "outputs": [],
   "source": [
    "import torch\n",
    "import torchvision\n"
   ]
  },
  {
   "cell_type": "code",
   "execution_count": 5,
   "metadata": {},
   "outputs": [],
   "source": [
    "\n",
    "train_dir = \"./ADNI/AD_NC/train\"\n",
    "test_dir = \"./ADNI/AD_NC/test\"\n",
    "\n",
    "\n",
    "train_data = torchvision.datasets.ImageFolder(root= train_dir)\n",
    "test_data = torchvision.datasets.ImageFolder(root= test_dir)"
   ]
  },
  {
   "cell_type": "code",
   "execution_count": 6,
   "metadata": {},
   "outputs": [
    {
     "data": {
      "text/plain": [
       "(21520,\n",
       " ['AD', 'NC'],\n",
       " (<PIL.Image.Image image mode=RGB size=256x240>, 0),\n",
       " {'AD': 0, 'NC': 1})"
      ]
     },
     "execution_count": 6,
     "metadata": {},
     "output_type": "execute_result"
    }
   ],
   "source": [
    "### Exploring the image data and stuff\n",
    "len(train_data), train_data.classes, train_data[0], train_data.class_to_idx\n",
    "\n",
    "### Size is 256 x 240, RGB so 3 channels, and the 2nd column is the label. I believe all 0 labels are the first half of the training set\n",
    "## So make sure to shuffle!!"
   ]
  },
  {
   "cell_type": "markdown",
   "metadata": {},
   "source": [
    "### Set up loaders\n",
    "- Set up loaders so that we can shuffle data, do batching, and load "
   ]
  },
  {
   "cell_type": "code",
   "execution_count": null,
   "metadata": {},
   "outputs": [],
   "source": [
    "from torch.utils.data import DataLoader\n",
    "\n",
    "# Define batch size\n",
    "batch_size = 32  # You can adjust this based on your GPU memory\n",
    "num_workers = 4\n",
    "\n",
    "# Creating the DataLoaders\n",
    "train_loader = DataLoader(train_data, batch_size=batch_size, shuffle=True, num_workers=num_workers)\n",
    "\n",
    "# Shuffle not needed for test because we aren't training on it. Shuffle is mainly used because, imagine if you had all your 0 classifications in the beginning and the dataloader ate this. You're feeding the NN hundreds of entire \"0s\" that it's going to backprop in this direction, instead of an 'unbiased sample'. This can affect how well it learns. Shuffling helps better convergence, and generalisation.\n",
    "\n",
    "test_loader = DataLoader(test_data, batch_size=batch_size, shuffle=False, num_workers=num_workers)\n"
   ]
  }
 ],
 "metadata": {
  "kernelspec": {
   "display_name": "Python 3",
   "language": "python",
   "name": "python3"
  },
  "language_info": {
   "codemirror_mode": {
    "name": "ipython",
    "version": 3
   },
   "file_extension": ".py",
   "mimetype": "text/x-python",
   "name": "python",
   "nbconvert_exporter": "python",
   "pygments_lexer": "ipython3",
   "version": "3.11.9"
  }
 },
 "nbformat": 4,
 "nbformat_minor": 2
}
