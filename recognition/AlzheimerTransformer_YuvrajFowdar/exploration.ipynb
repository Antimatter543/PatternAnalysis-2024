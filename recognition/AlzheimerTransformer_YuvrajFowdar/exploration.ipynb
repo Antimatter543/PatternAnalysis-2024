{
 "cells": [
  {
   "cell_type": "code",
   "execution_count": 3,
   "metadata": {},
   "outputs": [],
   "source": [
    "import torch\n",
    "import torchvision\n"
   ]
  },
  {
   "cell_type": "code",
   "execution_count": 4,
   "metadata": {},
   "outputs": [],
   "source": [
    "\n",
    "train_dir = \"./ADNI/AD_NC/train\"\n",
    "train_dir = \"./ADNI/AD_NC/test\"\n",
    "\n",
    "\n",
    "train_data = torchvision.datasets.ImageFolder(root= train_dir)\n"
   ]
  },
  {
   "cell_type": "code",
   "execution_count": 16,
   "metadata": {},
   "outputs": [
    {
     "data": {
      "text/plain": [
       "(9000, ['AD', 'NC'], (<PIL.Image.Image image mode=RGB size=256x240>, 0))"
      ]
     },
     "execution_count": 16,
     "metadata": {},
     "output_type": "execute_result"
    }
   ],
   "source": [
    "### Exploring the image data and stuff\n",
    "len(train_data), train_data.classes, train_data[0]\n",
    "\n",
    "### Size is 256 x 240, RGB so 3 channels, and the 2nd column is the label. I believe all 0 labels are the first half of the training set\n",
    "## So make sure to shuffle!!"
   ]
  }
 ],
 "metadata": {
  "kernelspec": {
   "display_name": "Python 3",
   "language": "python",
   "name": "python3"
  },
  "language_info": {
   "codemirror_mode": {
    "name": "ipython",
    "version": 3
   },
   "file_extension": ".py",
   "mimetype": "text/x-python",
   "name": "python",
   "nbconvert_exporter": "python",
   "pygments_lexer": "ipython3",
   "version": "3.11.9"
  }
 },
 "nbformat": 4,
 "nbformat_minor": 2
}
